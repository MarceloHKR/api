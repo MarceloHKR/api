{
 "cells": [
  {
   "cell_type": "code",
   "execution_count": 31,
   "metadata": {},
   "outputs": [],
   "source": [
    "class Cachorro:\n",
    "    def __init__(self, nome, idade, comida):\n",
    "        self.nome = nome\n",
    "        self.idade=idade\n",
    "        self.comida = comida\n",
    "        self._energia = 10\n",
    "\n",
    "    def adicionar_comida(self, quantidade):\n",
    "        self.comida += quantidade\n",
    "\n",
    "    def comer(self):\n",
    "        if self.comida > 0:\n",
    "            print('Comendo')\n",
    "            self.comida -= 1\n",
    "            self._energia += 2\n",
    "        else:\n",
    "            print('Cachorro sem comida')\n",
    "        \n",
    "    def latir(self):\n",
    "        if self._energia>0:\n",
    "            print('Au au')\n",
    "            self._energia -= 1\n",
    "        else:\n",
    "            print('Cachorro sem energia')"
   ]
  },
  {
   "cell_type": "code",
   "execution_count": 32,
   "metadata": {},
   "outputs": [],
   "source": [
    "cachorro_1 = Cachorro('Royal', 14, 10)"
   ]
  },
  {
   "cell_type": "code",
   "execution_count": 57,
   "metadata": {},
   "outputs": [
    {
     "name": "stdout",
     "output_type": "stream",
     "text": [
      "Cachorro sem comida\n"
     ]
    }
   ],
   "source": [
    "cachorro_1.comer()"
   ]
  },
  {
   "cell_type": "code",
   "execution_count": 65,
   "metadata": {},
   "outputs": [
    {
     "name": "stdout",
     "output_type": "stream",
     "text": [
      "Au au\n"
     ]
    }
   ],
   "source": [
    "cachorro_1.latir()"
   ]
  },
  {
   "cell_type": "code",
   "execution_count": 6,
   "metadata": {},
   "outputs": [
    {
     "name": "stdout",
     "output_type": "stream",
     "text": [
      "14\n"
     ]
    }
   ],
   "source": [
    "print(cachorro_1.idade)"
   ]
  },
  {
   "cell_type": "code",
   "execution_count": 7,
   "metadata": {},
   "outputs": [],
   "source": [
    "cachorro_1.idade = 15"
   ]
  },
  {
   "cell_type": "code",
   "execution_count": 13,
   "metadata": {},
   "outputs": [
    {
     "name": "stdout",
     "output_type": "stream",
     "text": [
      "Royal\n"
     ]
    }
   ],
   "source": [
    "print(cachorro_1.nome)"
   ]
  }
 ],
 "metadata": {
  "kernelspec": {
   "display_name": "Python 3",
   "language": "python",
   "name": "python3"
  },
  "language_info": {
   "codemirror_mode": {
    "name": "ipython",
    "version": 3
   },
   "file_extension": ".py",
   "mimetype": "text/x-python",
   "name": "python",
   "nbconvert_exporter": "python",
   "pygments_lexer": "ipython3",
   "version": "3.10.11"
  }
 },
 "nbformat": 4,
 "nbformat_minor": 2
}
